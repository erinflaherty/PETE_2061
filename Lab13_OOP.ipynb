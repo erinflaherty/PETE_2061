{
 "cells": [
  {
   "cell_type": "markdown",
   "metadata": {},
   "source": [
    "\n",
    " # Object Oriented Programming\n",
    "\n",
    "## PETE 2061 Lab 13\n",
    "\n",
    "<a id='top'></a>"
   ]
  },
  {
   "cell_type": "code",
   "execution_count": 4,
   "metadata": {},
   "outputs": [],
   "source": [
    "import numpy as np\n",
    "import matplotlib.pyplot as plt\n",
    "#import seaborn as sns\n",
    "\n",
    "import pandas as pd\n",
    "import sqlite3\n",
    "\n",
    "%matplotlib inline   \n",
    "#In Jupyter notebook, this makes matplotlib.pyplot generate a plot even the first time plot() is called"
   ]
  },
  {
   "cell_type": "code",
   "execution_count": 5,
   "metadata": {},
   "outputs": [],
   "source": [
    "class Well:\n",
    "    def __init__(self, **kwargs):\n",
    "        if 'startDate' in kwargs: self._startDate = ['startDate']\n",
    "        if 'computeRate' in kwargs: self._computeRate = ['computeRate']\n",
    "        if 'computeCumProd' in kwargs: self._computeCumProd = ['computeCumProd']       \n",
    "    def startDate(self, t = None):\n",
    "        if t: self._type = t\n",
    "        try: return self._type\n",
    "        except AttributeError: return None\n",
    "    def computeRate(self, n = None):\n",
    "        if n: self._name = n\n",
    "        try: return self._name\n",
    "        except AttributeError: return None\n",
    "    def computeCumProd(self, s = None):\n",
    "        if s: self._sound = s\n",
    "        try: return self._sound\n",
    "        except AttributeError: return None\n",
    "    def getStartDate(self):\n",
    "        return self._startDate\n",
    "    def setStartDate(self):\n",
    "        pass"
   ]
  },
  {
   "cell_type": "code",
   "execution_count": 11,
   "metadata": {},
   "outputs": [],
   "source": [
    "class ProductionWell(Well):\n",
    "    sign = -1  \n",
    "    def __init__(self, prodStartDate, q_i, D_i):\n",
    "        self._startDate = prodStartDate   #all variables starting with self.XXX are object properties\n",
    "        self._q_i = q_i\n",
    "        self._D_i = D_i\n",
    "        \n",
    "    def computeRate(self, **kwargs):\n",
    "        self._rate = self._q_i*np.exp(-self._D_i*t)\n",
    "        return self._rate   \n",
    "    \n",
    "    def computeCumProd(self, **kwargs): \n",
    "        self._CumProd = (self._q_i - self._rate)/self._D_i\n",
    "        return self._CumProd \n",
    "    \n",
    "    def getStartDate(self):\n",
    "        pass\n",
    "    \n",
    "    def setStartDate(self):\n",
    "        pass"
   ]
  },
  {
   "cell_type": "code",
   "execution_count": 8,
   "metadata": {},
   "outputs": [],
   "source": [
    "class InjectionWell(Well): \n",
    "    sign = 1\n",
    "    def __init__(self, injStartDate, q_i):\n",
    "        self._startDate = injStartDate\n",
    "        self._q_i = q_i\n",
    "   \n",
    "    def computeRate(self, q_i):\n",
    "        self._rate = q_i\n",
    "        return self._rate   \n",
    "    \n",
    "    #Cum Prod is computed based on constant rate of water injection\n",
    "    def computeCumProd(self, **kwargs):\n",
    "        self._CumProd = self._q_i * t\n",
    "        return self._CumProd\n",
    "    \n",
    "    def getStartDate(self):\n",
    "        pass\n",
    "    \n",
    "    def setStartDate(self):\n",
    "        pass"
   ]
  },
  {
   "cell_type": "code",
   "execution_count": 9,
   "metadata": {},
   "outputs": [],
   "source": [
    "class AppraisalWell(Well):\n",
    "    sign = 0\n",
    "    "
   ]
  },
  {
   "cell_type": "code",
   "execution_count": 12,
   "metadata": {},
   "outputs": [
    {
     "ename": "TypeError",
     "evalue": "__init__() takes 1 positional argument but 2 were given",
     "output_type": "error",
     "traceback": [
      "\u001b[1;31m---------------------------------------------------------------------------\u001b[0m",
      "\u001b[1;31mTypeError\u001b[0m                                 Traceback (most recent call last)",
      "\u001b[1;32m<ipython-input-12-a909659f0efc>\u001b[0m in \u001b[0;36m<module>\u001b[1;34m\u001b[0m\n\u001b[1;32m----> 1\u001b[1;33m \u001b[0mwell_1\u001b[0m \u001b[1;33m=\u001b[0m \u001b[0mWell\u001b[0m\u001b[1;33m(\u001b[0m\u001b[1;36m2000\u001b[0m\u001b[1;33m)\u001b[0m\u001b[1;33m\u001b[0m\u001b[1;33m\u001b[0m\u001b[0m\n\u001b[0m\u001b[0;32m      2\u001b[0m \u001b[0mwell_1\u001b[0m\u001b[1;33m.\u001b[0m\u001b[0mcomputeCumProd\u001b[0m\u001b[1;33m(\u001b[0m\u001b[1;33m)\u001b[0m\u001b[1;33m\u001b[0m\u001b[1;33m\u001b[0m\u001b[0m\n\u001b[0;32m      3\u001b[0m \u001b[0mwell_2\u001b[0m \u001b[1;33m=\u001b[0m \u001b[0mWell\u001b[0m\u001b[1;33m(\u001b[0m\u001b[1;36m2000\u001b[0m\u001b[1;33m)\u001b[0m\u001b[1;33m\u001b[0m\u001b[1;33m\u001b[0m\u001b[0m\n\u001b[0;32m      4\u001b[0m \u001b[0mwell_2\u001b[0m\u001b[1;33m.\u001b[0m\u001b[0mcomputeCumProd\u001b[0m\u001b[1;33m(\u001b[0m\u001b[1;33m)\u001b[0m\u001b[1;33m\u001b[0m\u001b[1;33m\u001b[0m\u001b[0m\n\u001b[0;32m      5\u001b[0m \u001b[1;33m\u001b[0m\u001b[0m\n",
      "\u001b[1;31mTypeError\u001b[0m: __init__() takes 1 positional argument but 2 were given"
     ]
    }
   ],
   "source": [
    "well_1 = Well(2000)\n",
    "well_1.computeCumProd()\n",
    "well_2 = Well(2000)\n",
    "well_2.computeCumProd()\n",
    "\n",
    "producer_A = ProductionWell(2000, 3000, 0.01)\n",
    "producer_B = ProductionWell(2001, 4000, 0.02)\n",
    "\n",
    "injector_A = InjectionWell(2005, 2500)\n",
    "injector_B = InjectionWell(2005, 2500)\n",
    "\n",
    "producer_A.computeRate(10)\n",
    "producer_A.computeCumProd(10)  #this computes CumProd, and is also an accessor or getter for the CumProd attribute\n",
    "\n",
    "producer_B.computeRate(11)\n",
    "producer_B.computeCumProd(11)\n",
    "\n",
    "injector_B.computeRate(1000)\n",
    "injector_B.computeCumProd(11)  \n",
    "\n",
    "injector_A.computeRate(1000)\n",
    "injector_A.computeCumProd(11) \n",
    "\n",
    "#It will be a bad idea to accesss and modify the CumProd attribute of a producer directly from other codes.\n",
    "#An accessor or getter needs to be used, in keeping with the tenets of OOP. Specifically, data encapsulation.\n",
    "producer_A._CumProd\n",
    "producer_A._CumProd = 30000  #Other programs can prevent this by using private variables.  DON'T DO THIS!!\n",
    "producer_A._CumProd\n",
    "\n",
    "for well in [producer_A, producer_B, injector_A, injector_B, well_1]:\n",
    "    print(well._CumProd)  #This is polymorphism. The well object could be a ProductionWell, an InjectionWell, etc.\n",
    "\n",
    "#well_1 = producer_A\n",
    "\n",
    "#well_1._q_i\n",
    "#well_1.computeRate(3)\n",
    "#well_1._rate\n",
    "#well_1.sign\n",
    "#type(well_1)"
   ]
  },
  {
   "cell_type": "code",
   "execution_count": 17,
   "metadata": {},
   "outputs": [
    {
     "name": "stdout",
     "output_type": "stream",
     "text": [
      "30000\n",
      "39496.240407504294\n",
      "27500\n",
      "27500\n",
      "0\n"
     ]
    }
   ],
   "source": [
    "well_1 = Well(2000)\n",
    "well_1.computeCumProd()\n",
    "well_2 = Well(2000)\n",
    "well_2.computeCumProd()\n",
    "\n",
    "producer_A = ProductionWell(2000, 3000, 0.01)\n",
    "producer_B = ProductionWell(2001, 4000, 0.02)\n",
    "\n",
    "injector_A = InjectionWell(2005, 2500)\n",
    "injector_B = InjectionWell(2005, 2500)\n",
    "\n",
    "producer_A.computeRate(10)\n",
    "producer_A.computeCumProd(10)  #this computes CumProd, and is also an accessor or getter for the CumProd attribute\n",
    "\n",
    "producer_B.computeRate(11)\n",
    "producer_B.computeCumProd(11)\n",
    "\n",
    "injector_B.computeRate(1000)\n",
    "injector_B.computeCumProd(11)  \n",
    "\n",
    "injector_A.computeRate(1000)\n",
    "injector_A.computeCumProd(11) \n",
    "\n",
    "#It will be a bad idea to accesss and modify the CumProd attribute of a producer directly from other codes.\n",
    "#An accessor or getter needs to be used, in keeping with the tenets of OOP. Specifically, data encapsulation.\n",
    "producer_A._CumProd\n",
    "producer_A._CumProd = 30000  #Other programs can prevent this by using private variables.  DON'T DO THIS!!\n",
    "producer_A._CumProd\n",
    "\n",
    "for well in [producer_A, producer_B, injector_A, injector_B, well_1]:\n",
    "    print(well._CumProd)  #This is polymorphism. The well object could be a ProductionWell, an InjectionWell, etc.\n",
    "\n",
    "#well_1 = producer_A\n",
    "\n",
    "#well_1._q_i\n",
    "#well_1.computeRate(3)\n",
    "#well_1._rate\n",
    "#well_1.sign\n",
    "#type(well_1)"
   ]
  },
  {
   "cell_type": "code",
   "execution_count": 16,
   "metadata": {},
   "outputs": [],
   "source": [
    "def main():\n",
    "    well_1 = Well()"
   ]
  }
 ],
 "metadata": {
  "kernelspec": {
   "display_name": "Python 3",
   "language": "python",
   "name": "python3"
  },
  "language_info": {
   "codemirror_mode": {
    "name": "ipython",
    "version": 3
   },
   "file_extension": ".py",
   "mimetype": "text/x-python",
   "name": "python",
   "nbconvert_exporter": "python",
   "pygments_lexer": "ipython3",
   "version": "3.7.3"
  }
 },
 "nbformat": 4,
 "nbformat_minor": 2
}
